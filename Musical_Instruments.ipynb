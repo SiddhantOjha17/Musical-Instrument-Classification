{
  "cells": [
    {
      "cell_type": "code",
      "execution_count": 1,
      "metadata": {
        "colab": {
          "base_uri": "https://localhost:8080/"
        },
        "id": "ExZ4DPAbNX_H",
        "outputId": "921c8562-a379-4cd5-a273-6000ce5c1797"
      },
      "outputs": [
        {
          "output_type": "stream",
          "name": "stdout",
          "text": [
            "Drive already mounted at /content/drive; to attempt to forcibly remount, call drive.mount(\"/content/drive\", force_remount=True).\n"
          ]
        }
      ],
      "source": [
        "from google.colab import drive\n",
        "drive.mount('/content/drive')"
      ]
    },
    {
      "cell_type": "code",
      "execution_count": 6,
      "metadata": {
        "id": "jRz-87mDNgU6"
      },
      "outputs": [],
      "source": [
        "import pandas as pd\n",
        "import os\n",
        "import numpy as np \n",
        "import math, random\n",
        "import torch\n",
        "import torchaudio\n",
        "from torchaudio import transforms\n",
        "from IPython.display import Audio"
      ]
    },
    {
      "cell_type": "code",
      "execution_count": 7,
      "metadata": {
        "id": "zcbb8LURQWdH"
      },
      "outputs": [],
      "source": [
        "sitar_files = \"/content/drive/MyDrive/Musical instruments/Sitar/wav\"\n",
        "violin_files = \"/content/drive/MyDrive/Musical instruments/Violin\"\n",
        "mohanveena_files = \"/content/drive/MyDrive/Musical instruments/Mohan veena/.wav\""
      ]
    },
    {
      "cell_type": "markdown",
      "metadata": {
        "id": "am3EEzN252WF"
      },
      "source": [
        "# Pre-Processing"
      ]
    },
    {
      "cell_type": "code",
      "execution_count": 8,
      "metadata": {
        "id": "lBxth5xflt0T"
      },
      "outputs": [],
      "source": [
        "class AudioProcessing():\n",
        "\n",
        "  \"\"\"\n",
        "  open method is used to load the audio file and returns your signal as a Tensor and sampling rate\n",
        "  Tensors are like multi-dimensional arrays with a uniform type\n",
        "  \"\"\"\n",
        "\n",
        "  @staticmethod\n",
        "  def open(audio_file_path):\n",
        "    data, sampling_rate = torchaudio.load(audio_file_path)\n",
        "    return (data, sampling_rate)\n",
        "         \n",
        "\n",
        "  \"\"\"\n",
        "  rechannel method: signals can either be mono or stereo. This method is used to get all our signals in the same dimensions.\n",
        "  It converts all mono signals to stereo by duplicating the first channel\n",
        "  Link for difference between mono/stereo : https://www.rowkin.com/blogs/rowkin/mono-vs-stereo-sound-whats-the-big-difference \n",
        "  \"\"\"\n",
        "#channels stereo/mono\n",
        "  @staticmethod\n",
        "  def rechannel(audio_file, new_channel):\n",
        "    data, sampling_rate = audio_file\n",
        "\n",
        "    if (data.shape[0] == new_channel):\n",
        "      return audio_file\n",
        "\n",
        "    if (new_channel == 1):\n",
        "      # stereo to mono\n",
        "      resig = data[:1, :]\n",
        "    else:\n",
        "      # mono to stereo by duplicating\n",
        "      resig = torch.cat([data, data])\n",
        "\n",
        "    return ((resig, sampling_rate))\n",
        "\n",
        "  \"\"\"\n",
        "  resampling method: our audio signals have different sampling rates as well. Hence, We need to standardise the sampling rate.\n",
        "  Different sampling rates result in different array sizes. Ex: sr - 40000Hz means array size of 400000 whereas 40010Hz means aaray size of 40010\n",
        "  After standardisation we get all arrays of the same size\n",
        "  \"\"\"\n",
        "#resample one at a time and merge\n",
        "  @staticmethod\n",
        "  def resample(audio, new_sampling_rate):\n",
        "    data, sampling_rate = audio\n",
        "\n",
        "    if (sampling_rate == new_sampling_rate):\n",
        "      return audio\n",
        "\n",
        "    num_channels = data.shape[0]\n",
        "    resig = torchaudio.transforms.Resample(sampling_rate, new_sampling_rate)(data[:1,:])\n",
        "    if (num_channels > 1):\n",
        "      retwo = torchaudio.transforms.Resample(sampling_rate, new_sampling_rate)(data[1:,:])\n",
        "      resig = torch.cat([resig, retwo])\n",
        "\n",
        "    return ((resig, new_sampling_rate))\n",
        "\n",
        "  \"\"\"\n",
        "  pad_trunc method: Our audio files are bound to be of different lengths of time. This also needs to be standardised.\n",
        "  This method either extends the length by padding with silence (Zero Padding) or reduces the length by truncating\n",
        "  \"\"\"\n",
        "  @staticmethod\n",
        "  def pad_trunc(audio, max_ms):\n",
        "    data, sampling_rate = audio\n",
        "    num_rows, data_len = data.shape\n",
        "    max_len = sampling_rate//1000 * max_ms\n",
        "\n",
        "    if (data_len > max_len): \n",
        "      # truncate to given length\n",
        "      data = data[:,:max_len]\n",
        "\n",
        "    elif (data_len < max_len):\n",
        "      # padding at the start and end of the audio\n",
        "      pad_begin_len = random.randint(0, max_len - data_len) #fill with random no between at 0 upto the extra time(maxlen-datalen)\n",
        "      pad_end_len = max_len - data_len - pad_begin_len\n",
        "\n",
        "      # Pad with 0s - Zero Padding\n",
        "      pad_begin = torch.zeros((num_rows, pad_begin_len))\n",
        "      pad_end = torch.zeros((num_rows, pad_end_len))\n",
        "\n",
        "      data = torch.cat((pad_begin, data, pad_end), 1)\n",
        "      \n",
        "    return (data, sampling_rate)\n",
        "\n",
        " \n",
        "  # Spectrogram finally!!!\n",
        "  \"\"\"\n",
        "  spectrogram method: \n",
        "  Link for short explanation: https://colab.research.google.com/drive/1UgxygdrBfq7UGjhTCc9oupA-CyKFGhGa#scrollTo=733XclBe9Vgn\n",
        "  \"\"\"\n",
        "  @staticmethod\n",
        "  def spectro_gram(aud, n_mels=64, n_fft=1024, hop_len=None):\n",
        "    sig,sr = aud\n",
        "    top_db = 80\n",
        "\n",
        "    # spec has shape [channel, n_mels, time], where channel is mono, stereo etc\n",
        "    spec = transforms.MelSpectrogram(sr, n_fft=n_fft, hop_length=hop_len, n_mels=n_mels)(sig)\n",
        "\n",
        "    # Convert to decibels\n",
        "    spec = transforms.AmplitudeToDB(top_db=top_db)(spec)\n",
        "    return (spec)\n",
        "\n",
        "  "
      ]
    },
    {
      "cell_type": "code",
      "execution_count": 9,
      "metadata": {
        "id": "kJVnUvSwpyzi"
      },
      "outputs": [],
      "source": [
        "def data_processing(folder):\n",
        "    \n",
        "  spectrograms = []\n",
        "  new_channel = 2                   #making all stereo sounds\n",
        "  new_sampling_rate = 44100         #permanently setting a standard rate\n",
        "  duration = 6000                   #setting a standard audio length of 6s, 6000ms\n",
        "\n",
        "  # looping over every files in the folder of musical instrument for ex: sitar\n",
        "  for i in os.listdir(folder):\n",
        "  \n",
        "    audio = AudioProcessing.open(os.path.join(folder,i))\n",
        "    resampled_audio = AudioProcessing.resample(audio, new_sampling_rate)\n",
        "    rechanneled_audio = AudioProcessing.rechannel(resampled_audio, new_channel)\n",
        "    padded_audio = AudioProcessing.pad_trunc(rechanneled_audio, duration)\n",
        "    spectro_gram = AudioProcessing.spectro_gram(padded_audio, n_mels=64, n_fft=1024, hop_len=None)\n",
        "    spectrograms.append(spectro_gram) \n",
        "  return spectrograms\n",
        "\n",
        "\n"
      ]
    },
    {
      "cell_type": "code",
      "execution_count": 10,
      "metadata": {
        "colab": {
          "base_uri": "https://localhost:8080/"
        },
        "id": "7SaG_SBLtJXl",
        "outputId": "14cb5cae-4d30-40d8-bf09-5a905107e4b9"
      },
      "outputs": [
        {
          "output_type": "stream",
          "name": "stdout",
          "text": [
            "(6, 2, 64, 516)\n",
            "(10, 2, 64, 516)\n",
            "(10, 2, 64, 516)\n"
          ]
        }
      ],
      "source": [
        "violin_spectrograms  = data_processing(violin_files) #cls id = 0 \n",
        "violin_arr_list = []\n",
        "for i in violin_spectrograms:\n",
        "  arr = i.numpy()\n",
        "  violin_arr_list.append(arr)\n",
        "violin_arr = np.array(violin_arr_list)\n",
        "print(violin_arr.shape)\n",
        "\n",
        "\n",
        "mohanveena_spectrograms  = data_processing(mohanveena_files) #cls id = 1 \n",
        "mohanveena_arr_list = []\n",
        "for i in mohanveena_spectrograms:\n",
        "  arr = i.numpy()\n",
        "  mohanveena_arr_list.append(arr)\n",
        "mohanveena_arr = np.array(mohanveena_arr_list)\n",
        "print(mohanveena_arr.shape)\n",
        "\n",
        "\n",
        "sitar_spectrograms  = data_processing(sitar_files) #cls id = 2\n",
        "sitar_arr_list = []\n",
        "for i in sitar_spectrograms:\n",
        "  arr = i.numpy()\n",
        "  sitar_arr_list.append(arr)\n",
        "sitar_arr = np.array(sitar_arr_list)\n",
        "print(sitar_arr.shape)"
      ]
    },
    {
      "cell_type": "code",
      "execution_count": 11,
      "metadata": {
        "colab": {
          "base_uri": "https://localhost:8080/"
        },
        "id": "C3PHH2Vh11RF",
        "outputId": "1107cd77-1acf-4754-a81c-344e9f243850"
      },
      "outputs": [
        {
          "output_type": "stream",
          "name": "stdout",
          "text": [
            "(6,)\n",
            "(10,)\n",
            "(10,)\n",
            "(26,)\n",
            "(26, 1)\n"
          ]
        }
      ],
      "source": [
        "y1 = np.zeros(6) \n",
        "y2 = np.ones(10)\n",
        "y3 = np.full(10,2)\n",
        "print(y1.shape)\n",
        "print(y2.shape)\n",
        "print(y3.shape)\n",
        "y = np.concatenate((y1,y2,y3), axis=0)\n",
        "print(y.shape)\n",
        "y = y.reshape(26,1)\n",
        "print(y.shape)"
      ]
    },
    {
      "cell_type": "code",
      "execution_count": 12,
      "metadata": {
        "colab": {
          "base_uri": "https://localhost:8080/"
        },
        "id": "nlKlF-3r11dV",
        "outputId": "edb817d5-526b-4b35-a0d9-010320e6e3a1"
      },
      "outputs": [
        {
          "output_type": "stream",
          "name": "stdout",
          "text": [
            "(26, 2, 64, 516)\n"
          ]
        }
      ],
      "source": [
        "x = np.concatenate((violin_arr,mohanveena_arr,sitar_arr),axis=0)\n",
        "print(x.shape)"
      ]
    },
    {
      "cell_type": "markdown",
      "metadata": {
        "id": "KBkwyWBT593m"
      },
      "source": [
        "# Artificial Neural Networks"
      ]
    },
    {
      "cell_type": "code",
      "execution_count": 1,
      "metadata": {
        "id": "SpdOx1vu11FS"
      },
      "outputs": [],
      "source": [
        "from keras import models, layers"
      ]
    },
    {
      "cell_type": "code",
      "execution_count": 2,
      "metadata": {
        "id": "GJupEmGN104Y"
      },
      "outputs": [],
      "source": [
        "network_model = models.Sequential()\n",
        "network_model.add(layers.Dense(512, activation=\"leaky_relu\", input_shape=(2*64*516,)))\n",
        "network_model.add(layers.Dense(128, activation=\"relu\", input_shape=(2*64*516,)))\n",
        "network_model.add(layers.Dense(3, activation=\"softmax\"))\n"
      ]
    },
    {
      "cell_type": "code",
      "execution_count": 3,
      "metadata": {
        "id": "hxnlX_Yc10v-",
        "colab": {
          "base_uri": "https://localhost:8080/"
        },
        "outputId": "5498d5d6-e746-41c5-f8e0-e01a121e60e3"
      },
      "outputs": [
        {
          "output_type": "stream",
          "name": "stdout",
          "text": [
            "Model: \"sequential\"\n",
            "_________________________________________________________________\n",
            " Layer (type)                Output Shape              Param #   \n",
            "=================================================================\n",
            " dense (Dense)               (None, 512)               33817088  \n",
            "                                                                 \n",
            " dense_1 (Dense)             (None, 128)               65664     \n",
            "                                                                 \n",
            " dense_2 (Dense)             (None, 3)                 387       \n",
            "                                                                 \n",
            "=================================================================\n",
            "Total params: 33,883,139\n",
            "Trainable params: 33,883,139\n",
            "Non-trainable params: 0\n",
            "_________________________________________________________________\n"
          ]
        }
      ],
      "source": [
        "network_model.summary()"
      ]
    },
    {
      "cell_type": "code",
      "execution_count": 4,
      "metadata": {
        "id": "_DTRMYu710kr"
      },
      "outputs": [],
      "source": [
        "network_model.compile(optimizer=\"adam\", metrics=[\"accuracy\"], loss=\"categorical_crossentropy\")"
      ]
    },
    {
      "cell_type": "code",
      "execution_count": 13,
      "metadata": {
        "colab": {
          "base_uri": "https://localhost:8080/"
        },
        "id": "s4ki2Jvu10WB",
        "outputId": "9bf4ecd9-4b4e-47a5-a9fb-44a8b653383e"
      },
      "outputs": [
        {
          "output_type": "stream",
          "name": "stdout",
          "text": [
            "(26, 66048)\n",
            "(26, 1)\n"
          ]
        }
      ],
      "source": [
        "x = x.reshape(26, 2*64*516)\n",
        "x = x.astype(float)/255 #standardisation - line starts from origin \n",
        "print(x.shape)\n",
        "print(y.shape)"
      ]
    },
    {
      "cell_type": "markdown",
      "metadata": {
        "id": "TZ9RhVBA7rJU"
      },
      "source": []
    },
    {
      "cell_type": "code",
      "execution_count": 14,
      "metadata": {
        "id": "LWCV3nDl3NEh",
        "colab": {
          "base_uri": "https://localhost:8080/"
        },
        "outputId": "3b15289c-a096-4b0f-c13b-e960048ebeda"
      },
      "outputs": [
        {
          "output_type": "execute_result",
          "data": {
            "text/plain": [
              "array([[0.],\n",
              "       [0.],\n",
              "       [0.],\n",
              "       [0.],\n",
              "       [0.],\n",
              "       [0.],\n",
              "       [1.],\n",
              "       [1.],\n",
              "       [1.],\n",
              "       [1.],\n",
              "       [1.],\n",
              "       [1.],\n",
              "       [1.],\n",
              "       [1.],\n",
              "       [1.],\n",
              "       [1.],\n",
              "       [2.],\n",
              "       [2.],\n",
              "       [2.],\n",
              "       [2.],\n",
              "       [2.],\n",
              "       [2.],\n",
              "       [2.],\n",
              "       [2.],\n",
              "       [2.],\n",
              "       [2.]])"
            ]
          },
          "metadata": {},
          "execution_count": 14
        }
      ],
      "source": [
        "y\n"
      ]
    },
    {
      "cell_type": "code",
      "execution_count": 15,
      "metadata": {
        "id": "w8n8BR3o49kb"
      },
      "outputs": [],
      "source": [
        "##preprocessing the labels data\n",
        "from tensorflow.keras.utils import to_categorical\n",
        "\n",
        "#one hot encoding\n",
        "y = to_categorical(y)\n"
      ]
    },
    {
      "cell_type": "code",
      "execution_count": 16,
      "metadata": {
        "id": "0yPJTUKK8U8F",
        "colab": {
          "base_uri": "https://localhost:8080/"
        },
        "outputId": "13ef4492-0245-4490-c6fc-ba9f443f7bf7"
      },
      "outputs": [
        {
          "output_type": "execute_result",
          "data": {
            "text/plain": [
              "array([[1., 0., 0.],\n",
              "       [1., 0., 0.],\n",
              "       [1., 0., 0.],\n",
              "       [1., 0., 0.],\n",
              "       [1., 0., 0.],\n",
              "       [1., 0., 0.],\n",
              "       [0., 1., 0.],\n",
              "       [0., 1., 0.],\n",
              "       [0., 1., 0.],\n",
              "       [0., 1., 0.],\n",
              "       [0., 1., 0.],\n",
              "       [0., 1., 0.],\n",
              "       [0., 1., 0.],\n",
              "       [0., 1., 0.],\n",
              "       [0., 1., 0.],\n",
              "       [0., 1., 0.],\n",
              "       [0., 0., 1.],\n",
              "       [0., 0., 1.],\n",
              "       [0., 0., 1.],\n",
              "       [0., 0., 1.],\n",
              "       [0., 0., 1.],\n",
              "       [0., 0., 1.],\n",
              "       [0., 0., 1.],\n",
              "       [0., 0., 1.],\n",
              "       [0., 0., 1.],\n",
              "       [0., 0., 1.]], dtype=float32)"
            ]
          },
          "metadata": {},
          "execution_count": 16
        }
      ],
      "source": [
        "y"
      ]
    },
    {
      "cell_type": "code",
      "execution_count": 17,
      "metadata": {
        "id": "-Sbprvrb5A2n",
        "colab": {
          "base_uri": "https://localhost:8080/"
        },
        "outputId": "ca93333b-2b09-4183-fc02-7eeebf05d25d"
      },
      "outputs": [
        {
          "output_type": "stream",
          "name": "stdout",
          "text": [
            "(26, 66048)\n",
            "(26, 3)\n"
          ]
        }
      ],
      "source": [
        "print(x.shape) #m, nx\n",
        "print(y.shape) #m, no of classes"
      ]
    },
    {
      "cell_type": "code",
      "execution_count": 18,
      "metadata": {
        "id": "6YlwdwcA10L5",
        "colab": {
          "base_uri": "https://localhost:8080/"
        },
        "outputId": "0dfd020c-a643-4d29-8a10-a8c0fe2aa9d2"
      },
      "outputs": [
        {
          "output_type": "stream",
          "name": "stdout",
          "text": [
            "Epoch 1/15\n",
            "1/1 [==============================] - 1s 1s/step - loss: 1.1109 - accuracy: 0.3462\n",
            "Epoch 2/15\n",
            "1/1 [==============================] - 0s 185ms/step - loss: 5.5132 - accuracy: 0.3846\n",
            "Epoch 3/15\n",
            "1/1 [==============================] - 0s 196ms/step - loss: 9.4856 - accuracy: 0.5769\n",
            "Epoch 4/15\n",
            "1/1 [==============================] - 0s 197ms/step - loss: 3.8271 - accuracy: 0.5769\n",
            "Epoch 5/15\n",
            "1/1 [==============================] - 0s 190ms/step - loss: 0.2865 - accuracy: 0.8846\n",
            "Epoch 6/15\n",
            "1/1 [==============================] - 0s 187ms/step - loss: 1.7035 - accuracy: 0.7308\n",
            "Epoch 7/15\n",
            "1/1 [==============================] - 0s 193ms/step - loss: 1.1252 - accuracy: 0.8077\n",
            "Epoch 8/15\n",
            "1/1 [==============================] - 0s 186ms/step - loss: 0.5209 - accuracy: 0.8846\n",
            "Epoch 9/15\n",
            "1/1 [==============================] - 0s 201ms/step - loss: 0.5808 - accuracy: 0.8462\n",
            "Epoch 10/15\n",
            "1/1 [==============================] - 0s 188ms/step - loss: 0.4780 - accuracy: 0.8846\n",
            "Epoch 11/15\n",
            "1/1 [==============================] - 0s 187ms/step - loss: 0.1389 - accuracy: 0.9231\n",
            "Epoch 12/15\n",
            "1/1 [==============================] - 0s 193ms/step - loss: 0.0024 - accuracy: 1.0000\n",
            "Epoch 13/15\n",
            "1/1 [==============================] - 0s 183ms/step - loss: 0.0029 - accuracy: 1.0000\n",
            "Epoch 14/15\n",
            "1/1 [==============================] - 0s 201ms/step - loss: 0.0765 - accuracy: 0.9615\n",
            "Epoch 15/15\n",
            "1/1 [==============================] - 0s 195ms/step - loss: 0.0535 - accuracy: 1.0000\n"
          ]
        },
        {
          "output_type": "execute_result",
          "data": {
            "text/plain": [
              "<keras.callbacks.History at 0x7fbaa1f693d0>"
            ]
          },
          "metadata": {},
          "execution_count": 18
        }
      ],
      "source": [
        "network_model.fit(x, y, epochs=15)"
      ]
    },
    {
      "cell_type": "markdown",
      "metadata": {
        "id": "1KwVOSu_5hDO"
      },
      "source": [
        "# LDA\n"
      ]
    },
    {
      "cell_type": "code",
      "execution_count": 19,
      "metadata": {
        "id": "UQXtW-yo10A6"
      },
      "outputs": [],
      "source": [
        "import sklearn\n",
        "import pandas as pd\n",
        "from sklearn.discriminant_analysis import LinearDiscriminantAnalysis as lda"
      ]
    },
    {
      "cell_type": "code",
      "execution_count": 20,
      "metadata": {
        "id": "fbzmoqGB3Y9W",
        "colab": {
          "base_uri": "https://localhost:8080/"
        },
        "outputId": "78068adb-9850-4446-d9a4-9ead613db255"
      },
      "outputs": [
        {
          "output_type": "stream",
          "name": "stdout",
          "text": [
            "(26, 66048)\n"
          ]
        }
      ],
      "source": [
        "print(x.shape)   #ML - m, nx format "
      ]
    },
    {
      "cell_type": "code",
      "execution_count": 21,
      "metadata": {
        "id": "9iEszok67azY",
        "colab": {
          "base_uri": "https://localhost:8080/"
        },
        "outputId": "0b55f989-01f7-47c7-9734-5e37c708c520"
      },
      "outputs": [
        {
          "output_type": "stream",
          "name": "stdout",
          "text": [
            "(6,)\n",
            "(10,)\n",
            "(10,)\n",
            "(26,)\n",
            "(26, 1)\n"
          ]
        }
      ],
      "source": [
        "y_1 = np.zeros(6)\n",
        "y_2 = np.ones(10)\n",
        "y_3 = np.full(10,2)\n",
        "print(y_1.shape)\n",
        "print(y_2.shape)\n",
        "print(y_3.shape)\n",
        "y_ = np.concatenate((y_1,y_2,y_3), axis=0)\n",
        "print(y_.shape)\n",
        "y_ = y_.reshape(26,1)\n",
        "print(y_.shape)"
      ]
    },
    {
      "cell_type": "code",
      "execution_count": 22,
      "metadata": {
        "id": "gmyGrwNV3Y2t"
      },
      "outputs": [],
      "source": [
        "x_df = pd.DataFrame(x)\n",
        "# x_df.head()\n",
        "\n",
        "y_df = pd.DataFrame(y_)\n",
        "# y_df.head()"
      ]
    },
    {
      "cell_type": "code",
      "execution_count": 23,
      "metadata": {
        "id": "LXQrrK2p3YpI",
        "colab": {
          "base_uri": "https://localhost:8080/",
          "height": 299
        },
        "outputId": "08452d54-e349-4276-a0bd-498ac4d163b1"
      },
      "outputs": [
        {
          "output_type": "execute_result",
          "data": {
            "text/plain": [
              "      0         1         2         3         4         5         6      \\\n",
              "0  0.025032 -0.090484 -0.087138 -0.092207 -0.076259 -0.079505 -0.069672   \n",
              "1 -0.193030 -0.193030 -0.193030 -0.193030 -0.193030 -0.193030 -0.193030   \n",
              "2  0.006038 -0.081756 -0.091666 -0.074198 -0.064413 -0.111878 -0.106960   \n",
              "3  0.058776 -0.037989 -0.061371 -0.104502 -0.101425 -0.044822 -0.016779   \n",
              "4  0.073489 -0.068629 -0.057619 -0.117497 -0.046673 -0.052807 -0.056300   \n",
              "\n",
              "      7         8         9      ...     66038     66039     66040     66041  \\\n",
              "0 -0.117736 -0.098156 -0.097636  ... -0.155297 -0.155297 -0.155297 -0.155297   \n",
              "1 -0.193030 -0.193030 -0.193030  ... -0.193030 -0.193030 -0.193030 -0.193030   \n",
              "2 -0.085069 -0.075285 -0.041502  ... -0.164481 -0.164481 -0.164481 -0.164481   \n",
              "3 -0.032939 -0.059585 -0.055484  ... -0.150176 -0.150176 -0.150176 -0.150176   \n",
              "4 -0.100291 -0.044439 -0.036422  ... -0.162598 -0.162598 -0.162598 -0.162598   \n",
              "\n",
              "      66042     66043     66044     66045     66046     66047  \n",
              "0 -0.155297 -0.155297 -0.155297 -0.155297 -0.155297 -0.147608  \n",
              "1 -0.193030 -0.193030 -0.193030 -0.193030 -0.193030 -0.193030  \n",
              "2 -0.164481 -0.164481 -0.164481 -0.164481 -0.164481 -0.160583  \n",
              "3 -0.150176 -0.150176 -0.150176 -0.150176 -0.150176 -0.150176  \n",
              "4 -0.162598 -0.162598 -0.162598 -0.162598 -0.162598 -0.162598  \n",
              "\n",
              "[5 rows x 66048 columns]"
            ],
            "text/html": [
              "\n",
              "  <div id=\"df-a8427d84-066a-4762-a55b-1566c32a99e5\">\n",
              "    <div class=\"colab-df-container\">\n",
              "      <div>\n",
              "<style scoped>\n",
              "    .dataframe tbody tr th:only-of-type {\n",
              "        vertical-align: middle;\n",
              "    }\n",
              "\n",
              "    .dataframe tbody tr th {\n",
              "        vertical-align: top;\n",
              "    }\n",
              "\n",
              "    .dataframe thead th {\n",
              "        text-align: right;\n",
              "    }\n",
              "</style>\n",
              "<table border=\"1\" class=\"dataframe\">\n",
              "  <thead>\n",
              "    <tr style=\"text-align: right;\">\n",
              "      <th></th>\n",
              "      <th>0</th>\n",
              "      <th>1</th>\n",
              "      <th>2</th>\n",
              "      <th>3</th>\n",
              "      <th>4</th>\n",
              "      <th>5</th>\n",
              "      <th>6</th>\n",
              "      <th>7</th>\n",
              "      <th>8</th>\n",
              "      <th>9</th>\n",
              "      <th>...</th>\n",
              "      <th>66038</th>\n",
              "      <th>66039</th>\n",
              "      <th>66040</th>\n",
              "      <th>66041</th>\n",
              "      <th>66042</th>\n",
              "      <th>66043</th>\n",
              "      <th>66044</th>\n",
              "      <th>66045</th>\n",
              "      <th>66046</th>\n",
              "      <th>66047</th>\n",
              "    </tr>\n",
              "  </thead>\n",
              "  <tbody>\n",
              "    <tr>\n",
              "      <th>0</th>\n",
              "      <td>0.025032</td>\n",
              "      <td>-0.090484</td>\n",
              "      <td>-0.087138</td>\n",
              "      <td>-0.092207</td>\n",
              "      <td>-0.076259</td>\n",
              "      <td>-0.079505</td>\n",
              "      <td>-0.069672</td>\n",
              "      <td>-0.117736</td>\n",
              "      <td>-0.098156</td>\n",
              "      <td>-0.097636</td>\n",
              "      <td>...</td>\n",
              "      <td>-0.155297</td>\n",
              "      <td>-0.155297</td>\n",
              "      <td>-0.155297</td>\n",
              "      <td>-0.155297</td>\n",
              "      <td>-0.155297</td>\n",
              "      <td>-0.155297</td>\n",
              "      <td>-0.155297</td>\n",
              "      <td>-0.155297</td>\n",
              "      <td>-0.155297</td>\n",
              "      <td>-0.147608</td>\n",
              "    </tr>\n",
              "    <tr>\n",
              "      <th>1</th>\n",
              "      <td>-0.193030</td>\n",
              "      <td>-0.193030</td>\n",
              "      <td>-0.193030</td>\n",
              "      <td>-0.193030</td>\n",
              "      <td>-0.193030</td>\n",
              "      <td>-0.193030</td>\n",
              "      <td>-0.193030</td>\n",
              "      <td>-0.193030</td>\n",
              "      <td>-0.193030</td>\n",
              "      <td>-0.193030</td>\n",
              "      <td>...</td>\n",
              "      <td>-0.193030</td>\n",
              "      <td>-0.193030</td>\n",
              "      <td>-0.193030</td>\n",
              "      <td>-0.193030</td>\n",
              "      <td>-0.193030</td>\n",
              "      <td>-0.193030</td>\n",
              "      <td>-0.193030</td>\n",
              "      <td>-0.193030</td>\n",
              "      <td>-0.193030</td>\n",
              "      <td>-0.193030</td>\n",
              "    </tr>\n",
              "    <tr>\n",
              "      <th>2</th>\n",
              "      <td>0.006038</td>\n",
              "      <td>-0.081756</td>\n",
              "      <td>-0.091666</td>\n",
              "      <td>-0.074198</td>\n",
              "      <td>-0.064413</td>\n",
              "      <td>-0.111878</td>\n",
              "      <td>-0.106960</td>\n",
              "      <td>-0.085069</td>\n",
              "      <td>-0.075285</td>\n",
              "      <td>-0.041502</td>\n",
              "      <td>...</td>\n",
              "      <td>-0.164481</td>\n",
              "      <td>-0.164481</td>\n",
              "      <td>-0.164481</td>\n",
              "      <td>-0.164481</td>\n",
              "      <td>-0.164481</td>\n",
              "      <td>-0.164481</td>\n",
              "      <td>-0.164481</td>\n",
              "      <td>-0.164481</td>\n",
              "      <td>-0.164481</td>\n",
              "      <td>-0.160583</td>\n",
              "    </tr>\n",
              "    <tr>\n",
              "      <th>3</th>\n",
              "      <td>0.058776</td>\n",
              "      <td>-0.037989</td>\n",
              "      <td>-0.061371</td>\n",
              "      <td>-0.104502</td>\n",
              "      <td>-0.101425</td>\n",
              "      <td>-0.044822</td>\n",
              "      <td>-0.016779</td>\n",
              "      <td>-0.032939</td>\n",
              "      <td>-0.059585</td>\n",
              "      <td>-0.055484</td>\n",
              "      <td>...</td>\n",
              "      <td>-0.150176</td>\n",
              "      <td>-0.150176</td>\n",
              "      <td>-0.150176</td>\n",
              "      <td>-0.150176</td>\n",
              "      <td>-0.150176</td>\n",
              "      <td>-0.150176</td>\n",
              "      <td>-0.150176</td>\n",
              "      <td>-0.150176</td>\n",
              "      <td>-0.150176</td>\n",
              "      <td>-0.150176</td>\n",
              "    </tr>\n",
              "    <tr>\n",
              "      <th>4</th>\n",
              "      <td>0.073489</td>\n",
              "      <td>-0.068629</td>\n",
              "      <td>-0.057619</td>\n",
              "      <td>-0.117497</td>\n",
              "      <td>-0.046673</td>\n",
              "      <td>-0.052807</td>\n",
              "      <td>-0.056300</td>\n",
              "      <td>-0.100291</td>\n",
              "      <td>-0.044439</td>\n",
              "      <td>-0.036422</td>\n",
              "      <td>...</td>\n",
              "      <td>-0.162598</td>\n",
              "      <td>-0.162598</td>\n",
              "      <td>-0.162598</td>\n",
              "      <td>-0.162598</td>\n",
              "      <td>-0.162598</td>\n",
              "      <td>-0.162598</td>\n",
              "      <td>-0.162598</td>\n",
              "      <td>-0.162598</td>\n",
              "      <td>-0.162598</td>\n",
              "      <td>-0.162598</td>\n",
              "    </tr>\n",
              "  </tbody>\n",
              "</table>\n",
              "<p>5 rows × 66048 columns</p>\n",
              "</div>\n",
              "      <button class=\"colab-df-convert\" onclick=\"convertToInteractive('df-a8427d84-066a-4762-a55b-1566c32a99e5')\"\n",
              "              title=\"Convert this dataframe to an interactive table.\"\n",
              "              style=\"display:none;\">\n",
              "        \n",
              "  <svg xmlns=\"http://www.w3.org/2000/svg\" height=\"24px\"viewBox=\"0 0 24 24\"\n",
              "       width=\"24px\">\n",
              "    <path d=\"M0 0h24v24H0V0z\" fill=\"none\"/>\n",
              "    <path d=\"M18.56 5.44l.94 2.06.94-2.06 2.06-.94-2.06-.94-.94-2.06-.94 2.06-2.06.94zm-11 1L8.5 8.5l.94-2.06 2.06-.94-2.06-.94L8.5 2.5l-.94 2.06-2.06.94zm10 10l.94 2.06.94-2.06 2.06-.94-2.06-.94-.94-2.06-.94 2.06-2.06.94z\"/><path d=\"M17.41 7.96l-1.37-1.37c-.4-.4-.92-.59-1.43-.59-.52 0-1.04.2-1.43.59L10.3 9.45l-7.72 7.72c-.78.78-.78 2.05 0 2.83L4 21.41c.39.39.9.59 1.41.59.51 0 1.02-.2 1.41-.59l7.78-7.78 2.81-2.81c.8-.78.8-2.07 0-2.86zM5.41 20L4 18.59l7.72-7.72 1.47 1.35L5.41 20z\"/>\n",
              "  </svg>\n",
              "      </button>\n",
              "      \n",
              "  <style>\n",
              "    .colab-df-container {\n",
              "      display:flex;\n",
              "      flex-wrap:wrap;\n",
              "      gap: 12px;\n",
              "    }\n",
              "\n",
              "    .colab-df-convert {\n",
              "      background-color: #E8F0FE;\n",
              "      border: none;\n",
              "      border-radius: 50%;\n",
              "      cursor: pointer;\n",
              "      display: none;\n",
              "      fill: #1967D2;\n",
              "      height: 32px;\n",
              "      padding: 0 0 0 0;\n",
              "      width: 32px;\n",
              "    }\n",
              "\n",
              "    .colab-df-convert:hover {\n",
              "      background-color: #E2EBFA;\n",
              "      box-shadow: 0px 1px 2px rgba(60, 64, 67, 0.3), 0px 1px 3px 1px rgba(60, 64, 67, 0.15);\n",
              "      fill: #174EA6;\n",
              "    }\n",
              "\n",
              "    [theme=dark] .colab-df-convert {\n",
              "      background-color: #3B4455;\n",
              "      fill: #D2E3FC;\n",
              "    }\n",
              "\n",
              "    [theme=dark] .colab-df-convert:hover {\n",
              "      background-color: #434B5C;\n",
              "      box-shadow: 0px 1px 3px 1px rgba(0, 0, 0, 0.15);\n",
              "      filter: drop-shadow(0px 1px 2px rgba(0, 0, 0, 0.3));\n",
              "      fill: #FFFFFF;\n",
              "    }\n",
              "  </style>\n",
              "\n",
              "      <script>\n",
              "        const buttonEl =\n",
              "          document.querySelector('#df-a8427d84-066a-4762-a55b-1566c32a99e5 button.colab-df-convert');\n",
              "        buttonEl.style.display =\n",
              "          google.colab.kernel.accessAllowed ? 'block' : 'none';\n",
              "\n",
              "        async function convertToInteractive(key) {\n",
              "          const element = document.querySelector('#df-a8427d84-066a-4762-a55b-1566c32a99e5');\n",
              "          const dataTable =\n",
              "            await google.colab.kernel.invokeFunction('convertToInteractive',\n",
              "                                                     [key], {});\n",
              "          if (!dataTable) return;\n",
              "\n",
              "          const docLinkHtml = 'Like what you see? Visit the ' +\n",
              "            '<a target=\"_blank\" href=https://colab.research.google.com/notebooks/data_table.ipynb>data table notebook</a>'\n",
              "            + ' to learn more about interactive tables.';\n",
              "          element.innerHTML = '';\n",
              "          dataTable['output_type'] = 'display_data';\n",
              "          await google.colab.output.renderOutput(dataTable, element);\n",
              "          const docLink = document.createElement('div');\n",
              "          docLink.innerHTML = docLinkHtml;\n",
              "          element.appendChild(docLink);\n",
              "        }\n",
              "      </script>\n",
              "    </div>\n",
              "  </div>\n",
              "  "
            ]
          },
          "metadata": {},
          "execution_count": 23
        }
      ],
      "source": [
        "x_df.head()"
      ]
    },
    {
      "cell_type": "code",
      "execution_count": 24,
      "metadata": {
        "id": "lKm8t0s342pt",
        "colab": {
          "base_uri": "https://localhost:8080/",
          "height": 206
        },
        "outputId": "98a450ac-e87c-4b7d-8ffc-90713e9bc825"
      },
      "outputs": [
        {
          "output_type": "execute_result",
          "data": {
            "text/plain": [
              "     0\n",
              "0  0.0\n",
              "1  0.0\n",
              "2  0.0\n",
              "3  0.0\n",
              "4  0.0"
            ],
            "text/html": [
              "\n",
              "  <div id=\"df-733dd05c-0859-4476-ae6e-19c6c06e0640\">\n",
              "    <div class=\"colab-df-container\">\n",
              "      <div>\n",
              "<style scoped>\n",
              "    .dataframe tbody tr th:only-of-type {\n",
              "        vertical-align: middle;\n",
              "    }\n",
              "\n",
              "    .dataframe tbody tr th {\n",
              "        vertical-align: top;\n",
              "    }\n",
              "\n",
              "    .dataframe thead th {\n",
              "        text-align: right;\n",
              "    }\n",
              "</style>\n",
              "<table border=\"1\" class=\"dataframe\">\n",
              "  <thead>\n",
              "    <tr style=\"text-align: right;\">\n",
              "      <th></th>\n",
              "      <th>0</th>\n",
              "    </tr>\n",
              "  </thead>\n",
              "  <tbody>\n",
              "    <tr>\n",
              "      <th>0</th>\n",
              "      <td>0.0</td>\n",
              "    </tr>\n",
              "    <tr>\n",
              "      <th>1</th>\n",
              "      <td>0.0</td>\n",
              "    </tr>\n",
              "    <tr>\n",
              "      <th>2</th>\n",
              "      <td>0.0</td>\n",
              "    </tr>\n",
              "    <tr>\n",
              "      <th>3</th>\n",
              "      <td>0.0</td>\n",
              "    </tr>\n",
              "    <tr>\n",
              "      <th>4</th>\n",
              "      <td>0.0</td>\n",
              "    </tr>\n",
              "  </tbody>\n",
              "</table>\n",
              "</div>\n",
              "      <button class=\"colab-df-convert\" onclick=\"convertToInteractive('df-733dd05c-0859-4476-ae6e-19c6c06e0640')\"\n",
              "              title=\"Convert this dataframe to an interactive table.\"\n",
              "              style=\"display:none;\">\n",
              "        \n",
              "  <svg xmlns=\"http://www.w3.org/2000/svg\" height=\"24px\"viewBox=\"0 0 24 24\"\n",
              "       width=\"24px\">\n",
              "    <path d=\"M0 0h24v24H0V0z\" fill=\"none\"/>\n",
              "    <path d=\"M18.56 5.44l.94 2.06.94-2.06 2.06-.94-2.06-.94-.94-2.06-.94 2.06-2.06.94zm-11 1L8.5 8.5l.94-2.06 2.06-.94-2.06-.94L8.5 2.5l-.94 2.06-2.06.94zm10 10l.94 2.06.94-2.06 2.06-.94-2.06-.94-.94-2.06-.94 2.06-2.06.94z\"/><path d=\"M17.41 7.96l-1.37-1.37c-.4-.4-.92-.59-1.43-.59-.52 0-1.04.2-1.43.59L10.3 9.45l-7.72 7.72c-.78.78-.78 2.05 0 2.83L4 21.41c.39.39.9.59 1.41.59.51 0 1.02-.2 1.41-.59l7.78-7.78 2.81-2.81c.8-.78.8-2.07 0-2.86zM5.41 20L4 18.59l7.72-7.72 1.47 1.35L5.41 20z\"/>\n",
              "  </svg>\n",
              "      </button>\n",
              "      \n",
              "  <style>\n",
              "    .colab-df-container {\n",
              "      display:flex;\n",
              "      flex-wrap:wrap;\n",
              "      gap: 12px;\n",
              "    }\n",
              "\n",
              "    .colab-df-convert {\n",
              "      background-color: #E8F0FE;\n",
              "      border: none;\n",
              "      border-radius: 50%;\n",
              "      cursor: pointer;\n",
              "      display: none;\n",
              "      fill: #1967D2;\n",
              "      height: 32px;\n",
              "      padding: 0 0 0 0;\n",
              "      width: 32px;\n",
              "    }\n",
              "\n",
              "    .colab-df-convert:hover {\n",
              "      background-color: #E2EBFA;\n",
              "      box-shadow: 0px 1px 2px rgba(60, 64, 67, 0.3), 0px 1px 3px 1px rgba(60, 64, 67, 0.15);\n",
              "      fill: #174EA6;\n",
              "    }\n",
              "\n",
              "    [theme=dark] .colab-df-convert {\n",
              "      background-color: #3B4455;\n",
              "      fill: #D2E3FC;\n",
              "    }\n",
              "\n",
              "    [theme=dark] .colab-df-convert:hover {\n",
              "      background-color: #434B5C;\n",
              "      box-shadow: 0px 1px 3px 1px rgba(0, 0, 0, 0.15);\n",
              "      filter: drop-shadow(0px 1px 2px rgba(0, 0, 0, 0.3));\n",
              "      fill: #FFFFFF;\n",
              "    }\n",
              "  </style>\n",
              "\n",
              "      <script>\n",
              "        const buttonEl =\n",
              "          document.querySelector('#df-733dd05c-0859-4476-ae6e-19c6c06e0640 button.colab-df-convert');\n",
              "        buttonEl.style.display =\n",
              "          google.colab.kernel.accessAllowed ? 'block' : 'none';\n",
              "\n",
              "        async function convertToInteractive(key) {\n",
              "          const element = document.querySelector('#df-733dd05c-0859-4476-ae6e-19c6c06e0640');\n",
              "          const dataTable =\n",
              "            await google.colab.kernel.invokeFunction('convertToInteractive',\n",
              "                                                     [key], {});\n",
              "          if (!dataTable) return;\n",
              "\n",
              "          const docLinkHtml = 'Like what you see? Visit the ' +\n",
              "            '<a target=\"_blank\" href=https://colab.research.google.com/notebooks/data_table.ipynb>data table notebook</a>'\n",
              "            + ' to learn more about interactive tables.';\n",
              "          element.innerHTML = '';\n",
              "          dataTable['output_type'] = 'display_data';\n",
              "          await google.colab.output.renderOutput(dataTable, element);\n",
              "          const docLink = document.createElement('div');\n",
              "          docLink.innerHTML = docLinkHtml;\n",
              "          element.appendChild(docLink);\n",
              "        }\n",
              "      </script>\n",
              "    </div>\n",
              "  </div>\n",
              "  "
            ]
          },
          "metadata": {},
          "execution_count": 24
        }
      ],
      "source": [
        "y_df.head()"
      ]
    },
    {
      "cell_type": "code",
      "execution_count": 25,
      "metadata": {
        "id": "8FRu4bTF42jt"
      },
      "outputs": [],
      "source": [
        "LDA = lda(n_components =2)   # n-1 == 3-1 == 2"
      ]
    },
    {
      "cell_type": "code",
      "execution_count": 26,
      "metadata": {
        "id": "H0RzYtYr42WL",
        "colab": {
          "base_uri": "https://localhost:8080/"
        },
        "outputId": "493338d2-191f-40c8-b480-21cee69f38d8"
      },
      "outputs": [
        {
          "output_type": "stream",
          "name": "stderr",
          "text": [
            "/usr/local/lib/python3.7/dist-packages/sklearn/utils/validation.py:993: DataConversionWarning: A column-vector y was passed when a 1d array was expected. Please change the shape of y to (n_samples, ), for example using ravel().\n",
            "  y = column_or_1d(y, warn=True)\n"
          ]
        },
        {
          "output_type": "execute_result",
          "data": {
            "text/plain": [
              "LinearDiscriminantAnalysis(n_components=2)"
            ]
          },
          "metadata": {},
          "execution_count": 26
        }
      ],
      "source": [
        "LDA.fit(x_df,y_df)"
      ]
    },
    {
      "cell_type": "code",
      "execution_count": 27,
      "metadata": {
        "id": "66g7qafh42J_",
        "colab": {
          "base_uri": "https://localhost:8080/"
        },
        "outputId": "7f1f25fe-834a-4442-fbc8-9ca2690d5817"
      },
      "outputs": [
        {
          "output_type": "execute_result",
          "data": {
            "text/plain": [
              "array([[-3.33816195, -2.41249905],\n",
              "       [-0.62328577,  0.33626046],\n",
              "       [-2.71229053, -1.24789056],\n",
              "       [-2.24239775, -0.83737061],\n",
              "       [-3.11512712, -1.81193106],\n",
              "       [-2.56189371, -2.42162095],\n",
              "       [ 3.39676031, -2.13255301],\n",
              "       [ 0.91093259,  0.01754986],\n",
              "       [ 2.67469601, -0.66339281],\n",
              "       [ 2.19006258, -0.05702   ],\n",
              "       [ 1.78032228, -0.80694315],\n",
              "       [ 3.74101947, -0.3578741 ],\n",
              "       [ 1.41378003,  0.91758456],\n",
              "       [ 2.8523143 , -0.36189119],\n",
              "       [ 3.38832241, -0.80677825],\n",
              "       [ 0.82825465,  0.091133  ],\n",
              "       [ 0.27536734,  2.05214217],\n",
              "       [-2.80806724,  1.00202661],\n",
              "       [-0.92728977,  1.2421681 ],\n",
              "       [-0.51307465,  2.30581706],\n",
              "       [-0.95566784,  0.11994427],\n",
              "       [ 0.73158772,  0.92390556],\n",
              "       [-1.2699029 ,  3.33458911],\n",
              "       [-0.88997549,  0.01887805],\n",
              "       [-0.80344123, -0.27694821],\n",
              "       [-1.42284374,  1.83271413]])"
            ]
          },
          "metadata": {},
          "execution_count": 27
        }
      ],
      "source": [
        "z = LDA.transform(x_df)  #Z-score\n",
        "z"
      ]
    },
    {
      "cell_type": "code",
      "execution_count": 28,
      "metadata": {
        "id": "2A5tKT3X41_q",
        "colab": {
          "base_uri": "https://localhost:8080/"
        },
        "outputId": "e64e70e2-eee7-481e-a1ce-25f7dca1dfa6"
      },
      "outputs": [
        {
          "output_type": "execute_result",
          "data": {
            "text/plain": [
              "array([0., 2., 0., 0., 0., 0., 1., 1., 1., 1., 1., 1., 1., 1., 1., 1., 2.,\n",
              "       2., 2., 2., 2., 2., 2., 2., 2., 2.])"
            ]
          },
          "metadata": {},
          "execution_count": 28
        }
      ],
      "source": [
        "y_pred = LDA.predict(x_df)\n",
        "y_pred"
      ]
    },
    {
      "cell_type": "code",
      "execution_count": 29,
      "metadata": {
        "id": "qYYCeuFA41st"
      },
      "outputs": [],
      "source": [
        "from sklearn.metrics import confusion_matrix\n",
        "from sklearn.metrics import accuracy_score"
      ]
    },
    {
      "cell_type": "code",
      "execution_count": 30,
      "metadata": {
        "id": "2Lo2SaW641hI",
        "colab": {
          "base_uri": "https://localhost:8080/"
        },
        "outputId": "c40656b6-1830-4d3d-920d-e09b40830bba"
      },
      "outputs": [
        {
          "output_type": "stream",
          "name": "stdout",
          "text": [
            "[[ 5  0  1]\n",
            " [ 0 10  0]\n",
            " [ 0  0 10]]\n"
          ]
        }
      ],
      "source": [
        "cm = confusion_matrix(y_df,y_pred)\n",
        "print(cm)"
      ]
    },
    {
      "cell_type": "markdown",
      "metadata": {
        "id": "x3qzEutc8Iyc"
      },
      "source": [
        "LDA before PCA"
      ]
    },
    {
      "cell_type": "code",
      "execution_count": 31,
      "metadata": {
        "id": "CTF5dSfY41ZJ",
        "colab": {
          "base_uri": "https://localhost:8080/"
        },
        "outputId": "2962bbdd-38ec-4a61-8615-7623b4c69925"
      },
      "outputs": [
        {
          "output_type": "execute_result",
          "data": {
            "text/plain": [
              "0.9615384615384616"
            ]
          },
          "metadata": {},
          "execution_count": 31
        }
      ],
      "source": [
        "accuracy_score(y_df ,y_pred)    # 25/26 = 0.96"
      ]
    },
    {
      "cell_type": "markdown",
      "metadata": {
        "id": "OGVHenrj5oxM"
      },
      "source": [
        "# PCA\n"
      ]
    },
    {
      "cell_type": "code",
      "execution_count": 32,
      "metadata": {
        "id": "rgrOdv3m6Hlz"
      },
      "outputs": [],
      "source": [
        "from sklearn.decomposition import PCA"
      ]
    },
    {
      "cell_type": "code",
      "execution_count": 33,
      "metadata": {
        "id": "9kR4T3ay41Rb",
        "colab": {
          "base_uri": "https://localhost:8080/"
        },
        "outputId": "b58c24fd-9a67-43e8-a627-1a12a772c6b9"
      },
      "outputs": [
        {
          "output_type": "stream",
          "name": "stdout",
          "text": [
            "pca.components_:\n",
            "[[-0.0082795  -0.00485313 -0.00452496 ... -0.001362   -0.001362\n",
            "  -0.00182884]]\n",
            "\n",
            "\n",
            "pca.explained_variance_:\n",
            "[62.78468513]\n",
            "\n",
            "\n",
            "pca.explained_variance_ratio_:\n",
            "[0.33922695]\n",
            "\n",
            "\n",
            "z_scores:\n",
            "[[-11.24696588]\n",
            " [  4.36378769]\n",
            " [-10.05817279]\n",
            " [ -9.42454166]\n",
            " [-12.8574765 ]\n",
            " [-12.74985098]\n",
            " [ 11.44773055]\n",
            " [  7.55199398]\n",
            " [ -0.05496496]\n",
            " [  2.24821666]\n",
            " [ -3.0938237 ]\n",
            " [  9.4383823 ]\n",
            " [  0.03503697]\n",
            " [ 13.84573003]\n",
            " [ 15.42497386]\n",
            " [  9.16685155]\n",
            " [ -5.61914167]\n",
            " [ -4.41007906]\n",
            " [ -1.21783718]\n",
            " [  0.87017519]\n",
            " [  3.88262139]\n",
            " [ -0.33693644]\n",
            " [ -2.83659013]\n",
            " [ -0.42088741]\n",
            " [ -4.82773598]\n",
            " [  0.87950417]]\n"
          ]
        }
      ],
      "source": [
        "pca = PCA(n_components=1)\n",
        "pca.fit(x_df)\n",
        "\n",
        "print(f\"pca.components_:\\n{pca.components_}\")  #eigen vector\n",
        "print(f\"\\n\\npca.explained_variance_:\\n{pca.explained_variance_}\")    #eigen value\n",
        "print(f\"\\n\\npca.explained_variance_ratio_:\\n{pca.explained_variance_ratio_}\") #percentage of variabilty \n",
        "z_scores = pca.transform(x_df)\n",
        "print(f\"\\n\\nz_scores:\\n{z_scores}\")   #Z-Score"
      ]
    },
    {
      "cell_type": "code",
      "execution_count": 34,
      "metadata": {
        "id": "1Vq7hGXt6U6e",
        "colab": {
          "base_uri": "https://localhost:8080/",
          "height": 864
        },
        "outputId": "3b720f08-c659-4372-fc3b-1a530e68e8a7"
      },
      "outputs": [
        {
          "output_type": "execute_result",
          "data": {
            "text/plain": [
              "            0\n",
              "0  -11.246966\n",
              "1    4.363788\n",
              "2  -10.058173\n",
              "3   -9.424542\n",
              "4  -12.857476\n",
              "5  -12.749851\n",
              "6   11.447731\n",
              "7    7.551994\n",
              "8   -0.054965\n",
              "9    2.248217\n",
              "10  -3.093824\n",
              "11   9.438382\n",
              "12   0.035037\n",
              "13  13.845730\n",
              "14  15.424974\n",
              "15   9.166852\n",
              "16  -5.619142\n",
              "17  -4.410079\n",
              "18  -1.217837\n",
              "19   0.870175\n",
              "20   3.882621\n",
              "21  -0.336936\n",
              "22  -2.836590\n",
              "23  -0.420887\n",
              "24  -4.827736\n",
              "25   0.879504"
            ],
            "text/html": [
              "\n",
              "  <div id=\"df-e3c561cf-e78a-4664-8bf3-0d7fc2214057\">\n",
              "    <div class=\"colab-df-container\">\n",
              "      <div>\n",
              "<style scoped>\n",
              "    .dataframe tbody tr th:only-of-type {\n",
              "        vertical-align: middle;\n",
              "    }\n",
              "\n",
              "    .dataframe tbody tr th {\n",
              "        vertical-align: top;\n",
              "    }\n",
              "\n",
              "    .dataframe thead th {\n",
              "        text-align: right;\n",
              "    }\n",
              "</style>\n",
              "<table border=\"1\" class=\"dataframe\">\n",
              "  <thead>\n",
              "    <tr style=\"text-align: right;\">\n",
              "      <th></th>\n",
              "      <th>0</th>\n",
              "    </tr>\n",
              "  </thead>\n",
              "  <tbody>\n",
              "    <tr>\n",
              "      <th>0</th>\n",
              "      <td>-11.246966</td>\n",
              "    </tr>\n",
              "    <tr>\n",
              "      <th>1</th>\n",
              "      <td>4.363788</td>\n",
              "    </tr>\n",
              "    <tr>\n",
              "      <th>2</th>\n",
              "      <td>-10.058173</td>\n",
              "    </tr>\n",
              "    <tr>\n",
              "      <th>3</th>\n",
              "      <td>-9.424542</td>\n",
              "    </tr>\n",
              "    <tr>\n",
              "      <th>4</th>\n",
              "      <td>-12.857476</td>\n",
              "    </tr>\n",
              "    <tr>\n",
              "      <th>5</th>\n",
              "      <td>-12.749851</td>\n",
              "    </tr>\n",
              "    <tr>\n",
              "      <th>6</th>\n",
              "      <td>11.447731</td>\n",
              "    </tr>\n",
              "    <tr>\n",
              "      <th>7</th>\n",
              "      <td>7.551994</td>\n",
              "    </tr>\n",
              "    <tr>\n",
              "      <th>8</th>\n",
              "      <td>-0.054965</td>\n",
              "    </tr>\n",
              "    <tr>\n",
              "      <th>9</th>\n",
              "      <td>2.248217</td>\n",
              "    </tr>\n",
              "    <tr>\n",
              "      <th>10</th>\n",
              "      <td>-3.093824</td>\n",
              "    </tr>\n",
              "    <tr>\n",
              "      <th>11</th>\n",
              "      <td>9.438382</td>\n",
              "    </tr>\n",
              "    <tr>\n",
              "      <th>12</th>\n",
              "      <td>0.035037</td>\n",
              "    </tr>\n",
              "    <tr>\n",
              "      <th>13</th>\n",
              "      <td>13.845730</td>\n",
              "    </tr>\n",
              "    <tr>\n",
              "      <th>14</th>\n",
              "      <td>15.424974</td>\n",
              "    </tr>\n",
              "    <tr>\n",
              "      <th>15</th>\n",
              "      <td>9.166852</td>\n",
              "    </tr>\n",
              "    <tr>\n",
              "      <th>16</th>\n",
              "      <td>-5.619142</td>\n",
              "    </tr>\n",
              "    <tr>\n",
              "      <th>17</th>\n",
              "      <td>-4.410079</td>\n",
              "    </tr>\n",
              "    <tr>\n",
              "      <th>18</th>\n",
              "      <td>-1.217837</td>\n",
              "    </tr>\n",
              "    <tr>\n",
              "      <th>19</th>\n",
              "      <td>0.870175</td>\n",
              "    </tr>\n",
              "    <tr>\n",
              "      <th>20</th>\n",
              "      <td>3.882621</td>\n",
              "    </tr>\n",
              "    <tr>\n",
              "      <th>21</th>\n",
              "      <td>-0.336936</td>\n",
              "    </tr>\n",
              "    <tr>\n",
              "      <th>22</th>\n",
              "      <td>-2.836590</td>\n",
              "    </tr>\n",
              "    <tr>\n",
              "      <th>23</th>\n",
              "      <td>-0.420887</td>\n",
              "    </tr>\n",
              "    <tr>\n",
              "      <th>24</th>\n",
              "      <td>-4.827736</td>\n",
              "    </tr>\n",
              "    <tr>\n",
              "      <th>25</th>\n",
              "      <td>0.879504</td>\n",
              "    </tr>\n",
              "  </tbody>\n",
              "</table>\n",
              "</div>\n",
              "      <button class=\"colab-df-convert\" onclick=\"convertToInteractive('df-e3c561cf-e78a-4664-8bf3-0d7fc2214057')\"\n",
              "              title=\"Convert this dataframe to an interactive table.\"\n",
              "              style=\"display:none;\">\n",
              "        \n",
              "  <svg xmlns=\"http://www.w3.org/2000/svg\" height=\"24px\"viewBox=\"0 0 24 24\"\n",
              "       width=\"24px\">\n",
              "    <path d=\"M0 0h24v24H0V0z\" fill=\"none\"/>\n",
              "    <path d=\"M18.56 5.44l.94 2.06.94-2.06 2.06-.94-2.06-.94-.94-2.06-.94 2.06-2.06.94zm-11 1L8.5 8.5l.94-2.06 2.06-.94-2.06-.94L8.5 2.5l-.94 2.06-2.06.94zm10 10l.94 2.06.94-2.06 2.06-.94-2.06-.94-.94-2.06-.94 2.06-2.06.94z\"/><path d=\"M17.41 7.96l-1.37-1.37c-.4-.4-.92-.59-1.43-.59-.52 0-1.04.2-1.43.59L10.3 9.45l-7.72 7.72c-.78.78-.78 2.05 0 2.83L4 21.41c.39.39.9.59 1.41.59.51 0 1.02-.2 1.41-.59l7.78-7.78 2.81-2.81c.8-.78.8-2.07 0-2.86zM5.41 20L4 18.59l7.72-7.72 1.47 1.35L5.41 20z\"/>\n",
              "  </svg>\n",
              "      </button>\n",
              "      \n",
              "  <style>\n",
              "    .colab-df-container {\n",
              "      display:flex;\n",
              "      flex-wrap:wrap;\n",
              "      gap: 12px;\n",
              "    }\n",
              "\n",
              "    .colab-df-convert {\n",
              "      background-color: #E8F0FE;\n",
              "      border: none;\n",
              "      border-radius: 50%;\n",
              "      cursor: pointer;\n",
              "      display: none;\n",
              "      fill: #1967D2;\n",
              "      height: 32px;\n",
              "      padding: 0 0 0 0;\n",
              "      width: 32px;\n",
              "    }\n",
              "\n",
              "    .colab-df-convert:hover {\n",
              "      background-color: #E2EBFA;\n",
              "      box-shadow: 0px 1px 2px rgba(60, 64, 67, 0.3), 0px 1px 3px 1px rgba(60, 64, 67, 0.15);\n",
              "      fill: #174EA6;\n",
              "    }\n",
              "\n",
              "    [theme=dark] .colab-df-convert {\n",
              "      background-color: #3B4455;\n",
              "      fill: #D2E3FC;\n",
              "    }\n",
              "\n",
              "    [theme=dark] .colab-df-convert:hover {\n",
              "      background-color: #434B5C;\n",
              "      box-shadow: 0px 1px 3px 1px rgba(0, 0, 0, 0.15);\n",
              "      filter: drop-shadow(0px 1px 2px rgba(0, 0, 0, 0.3));\n",
              "      fill: #FFFFFF;\n",
              "    }\n",
              "  </style>\n",
              "\n",
              "      <script>\n",
              "        const buttonEl =\n",
              "          document.querySelector('#df-e3c561cf-e78a-4664-8bf3-0d7fc2214057 button.colab-df-convert');\n",
              "        buttonEl.style.display =\n",
              "          google.colab.kernel.accessAllowed ? 'block' : 'none';\n",
              "\n",
              "        async function convertToInteractive(key) {\n",
              "          const element = document.querySelector('#df-e3c561cf-e78a-4664-8bf3-0d7fc2214057');\n",
              "          const dataTable =\n",
              "            await google.colab.kernel.invokeFunction('convertToInteractive',\n",
              "                                                     [key], {});\n",
              "          if (!dataTable) return;\n",
              "\n",
              "          const docLinkHtml = 'Like what you see? Visit the ' +\n",
              "            '<a target=\"_blank\" href=https://colab.research.google.com/notebooks/data_table.ipynb>data table notebook</a>'\n",
              "            + ' to learn more about interactive tables.';\n",
              "          element.innerHTML = '';\n",
              "          dataTable['output_type'] = 'display_data';\n",
              "          await google.colab.output.renderOutput(dataTable, element);\n",
              "          const docLink = document.createElement('div');\n",
              "          docLink.innerHTML = docLinkHtml;\n",
              "          element.appendChild(docLink);\n",
              "        }\n",
              "      </script>\n",
              "    </div>\n",
              "  </div>\n",
              "  "
            ]
          },
          "metadata": {},
          "execution_count": 34
        }
      ],
      "source": [
        "new_x = pd.DataFrame(z_scores)\n",
        "new_x"
      ]
    },
    {
      "cell_type": "markdown",
      "metadata": {
        "id": "AJ5R6vjX8Fzl"
      },
      "source": [
        "LDA after PCA "
      ]
    },
    {
      "cell_type": "code",
      "execution_count": 35,
      "metadata": {
        "id": "eYk1Q-5sBg4v",
        "colab": {
          "base_uri": "https://localhost:8080/"
        },
        "outputId": "577b5bd9-94cf-4e63-b311-c9b5c4fe9cff"
      },
      "outputs": [
        {
          "output_type": "execute_result",
          "data": {
            "text/plain": [
              "(26, 1)"
            ]
          },
          "metadata": {},
          "execution_count": 35
        }
      ],
      "source": [
        "new_x.shape"
      ]
    },
    {
      "cell_type": "code",
      "execution_count": 36,
      "metadata": {
        "id": "n7M_R1MR7jA0",
        "colab": {
          "base_uri": "https://localhost:8080/"
        },
        "outputId": "e1cc9c00-1322-415d-cdd4-745419ee7ae4"
      },
      "outputs": [
        {
          "output_type": "stream",
          "name": "stdout",
          "text": [
            "[[-2.09325752]\n",
            " [ 0.81217739]\n",
            " [-1.87200228]\n",
            " [-1.75407242]\n",
            " [-2.39300178]\n",
            " [-2.37297078]\n",
            " [ 2.13062334]\n",
            " [ 1.40555847]\n",
            " [-0.01022994]\n",
            " [ 0.41843253]\n",
            " [-0.57581483]\n",
            " [ 1.75664841]\n",
            " [ 0.00652099]\n",
            " [ 2.57693309]\n",
            " [ 2.87085805]\n",
            " [ 1.70611178]\n",
            " [-1.04582077]\n",
            " [-0.82079303]\n",
            " [-0.22666085]\n",
            " [ 0.16195486]\n",
            " [ 0.72262391]\n",
            " [-0.06270978]\n",
            " [-0.52793915]\n",
            " [-0.07833453]\n",
            " [-0.8985263 ]\n",
            " [ 0.16369114]]\n",
            "[0. 1. 0. 0. 0. 0. 1. 1. 2. 2. 2. 1. 2. 1. 1. 1. 2. 2. 2. 2. 1. 2. 2. 2.\n",
            " 2. 2.]\n"
          ]
        },
        {
          "output_type": "stream",
          "name": "stderr",
          "text": [
            "/usr/local/lib/python3.7/dist-packages/sklearn/utils/validation.py:993: DataConversionWarning: A column-vector y was passed when a 1d array was expected. Please change the shape of y to (n_samples, ), for example using ravel().\n",
            "  y = column_or_1d(y, warn=True)\n"
          ]
        }
      ],
      "source": [
        "LDA = lda(n_components =1)\n",
        "LDA.fit(new_x,y_)\n",
        "z = LDA.transform(new_x)\n",
        "print(z)\n",
        "y_pred = LDA.predict(new_x)\n",
        "print(y_pred)"
      ]
    },
    {
      "cell_type": "code",
      "execution_count": 37,
      "metadata": {
        "id": "w8YyvyawJPY-",
        "colab": {
          "base_uri": "https://localhost:8080/"
        },
        "outputId": "fc12aead-b2c4-4e1b-c628-fa19cdbc0b11"
      },
      "outputs": [
        {
          "output_type": "execute_result",
          "data": {
            "text/plain": [
              "array([[5, 1, 0],\n",
              "       [0, 6, 4],\n",
              "       [0, 1, 9]])"
            ]
          },
          "metadata": {},
          "execution_count": 37
        }
      ],
      "source": [
        "cm = confusion_matrix(y_,y_pred)\n",
        "cm"
      ]
    },
    {
      "cell_type": "code",
      "execution_count": 38,
      "metadata": {
        "id": "0g-LPQQy7pM6",
        "colab": {
          "base_uri": "https://localhost:8080/"
        },
        "outputId": "5fd55729-5b37-4fe1-c153-b3561f72d998"
      },
      "outputs": [
        {
          "output_type": "execute_result",
          "data": {
            "text/plain": [
              "0.7692307692307693"
            ]
          },
          "metadata": {},
          "execution_count": 38
        }
      ],
      "source": [
        "accuracy_score(y_ ,y_pred)"
      ]
    }
  ],
  "metadata": {
    "colab": {
      "collapsed_sections": [],
      "provenance": []
    },
    "kernelspec": {
      "display_name": "Python 3",
      "name": "python3"
    },
    "language_info": {
      "name": "python"
    }
  },
  "nbformat": 4,
  "nbformat_minor": 0
}